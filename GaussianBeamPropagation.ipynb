{
 "cells": [
  {
   "cell_type": "code",
   "execution_count": 10,
   "metadata": {},
   "outputs": [],
   "source": [
    "import numpy as np\n",
    "import matplotlib.pyplot as plt\n",
    "# from scipy.opimize import nnls\n",
    "%matplotlib ipympl\n",
    "\n",
    "# Define the aperture function (rectangular)\n",
    "def rectangular_aperture(x, width):\n",
    "    return np.where(np.abs(x) <= width / 2, 1, 0)\n",
    "\n",
    "def tophat(x, R, m):\n",
    "    return np.exp(-np.sqrt((x**2)/(R**2))**m)\n",
    "\n",
    "def w_z(w0, z, zR):\n",
    "    return w0 * np.sqrt(1 + (z / zR) ** 2)\n",
    "\n",
    "def R(z, z_r):\n",
    "    return z * (1 + (z_r / z) ** 2)\n",
    "\n",
    "def Q_inv(z, z_r, w0, wl):\n",
    "    return 1 / R(z, z_r) + 1j * wl / (np.pi * w_z(w0, z, z_r) ** 2)\n",
    "    \n",
    "def zR(w0, wavelength):\n",
    "    return (np.pi * w0 ** 2) / wavelength\n",
    "\n",
    "def gaussian_beam(E0, x, x0, w0, zR):\n",
    "    return E0 * (w0 / w_z(w0, 0, zR)) * np.exp(- ((x - x0) / w_z(w0, 0, zR)) ** 2)\n",
    "\n",
    "def prop_ray(ray, dz):\n",
    "    return ray * dz\n",
    "\n",
    "def calculate_direction_cosines(x0, y0, z0, x1, y1, z1):\n",
    "    # Calculate the principal ray vector from ray coordinate on object to centre of lens\n",
    "    vx = x1 - x0\n",
    "    vy = y1 - y0\n",
    "    vz = z1 - z0\n",
    "    v_mag = np.sqrt(vx**2 + vy**2 + vz**2)\n",
    "    \n",
    "    # And it's direction cosines\n",
    "    M = vy / v_mag \n",
    "    L = vx / v_mag\n",
    "    N = vz / v_mag\n",
    "    \n",
    "    return L, M, N\n",
    "\n",
    "# Function to propagate a distance z, and obtain the new optical path length. \n",
    "def propagate(x, y, z, L, M, N, z_prop, opl):\n",
    "    dx = (L / N) * z_prop\n",
    "    dy = (M / N) * z_prop\n",
    "    dz = (N / N) * z_prop\n",
    "    x1 = x + dx\n",
    "    y1 = y + dy\n",
    "    z1 = z + dz\n",
    "    \n",
    "    opl = opl + np.sqrt(dx ** 2 + dy ** 2 + dz ** 2)\n",
    "    \n",
    "    return x1, y1, z1, opl\n",
    "\n",
    "def convert_slope_to_direction_cosines(dx, dy):\n",
    "    l = dx/ np.sqrt(1 + dx ** 2)\n",
    "    n = 1 / np.sqrt(1 + dx** 2)\n",
    "    return l, n\n",
    "\n",
    "def propagate_rays(R, z):\n",
    "    n = 1 / np.sqrt(1 + R[:, 1] ** 2)\n",
    "    d = z / n\n",
    "    ABCD = np.array([[1, d],\n",
    "                     [0, 1]])\n",
    "    \n",
    "    return R @ ABCD\n",
    "\n",
    "def create_rayset(x, l, y, m, dx, dl, dy, dm, n_rays):\n",
    "    # Initialize the rayset matrix\n",
    "    rayset = np.zeros((5, 4, n_rays))\n",
    "    \n",
    "    # Populate the rayset with the given variations\n",
    "    rayset[0, :, :] = [x, y, l, m]\n",
    "    rayset[1, :, :] = [x + dx, y, l, m]\n",
    "    rayset[2, :, :] = [x, y + dy, l, m]\n",
    "    rayset[3, :, :] = [x, y, l + dl, m]\n",
    "    rayset[4, :, :] = [x, y, l, m + dm]\n",
    "\n",
    "    return rayset\n",
    "\n",
    "def differential_matrix(x_px_T, x_cen_T, x_px_S, x_cen_S,\n",
    "                        y_py_T, y_cen_T, y_py_S, y_cen_S,\n",
    "                        l_pl_T, l_cen_T, l_pl_S, l_cen_S,\n",
    "                        m_pm_T, m_cen_T, m_pm_S, m_cen_S,\n",
    "                        x_py_T, y_px_T, l_px_T, m_px_T,\n",
    "                        x_pl_T, y_pl_T, l_py_T, m_py_T,\n",
    "                        x_pm_T, y_pm_T, l_pm_T, m_pl_T):\n",
    "            \n",
    "    # Computing denominators for reuse\n",
    "    denom_x = x_px_S - x_cen_S\n",
    "    denom_y = y_py_S - y_cen_S\n",
    "    denom_l = l_pl_S - l_cen_S\n",
    "    denom_m = m_pm_S - m_cen_S\n",
    "\n",
    "    # Computing each element of the matrix\n",
    "    matrix = np.array([\n",
    "        [(x_px_T - x_cen_T) / denom_x, (x_py_T - x_cen_T) / denom_y, (x_pl_T - x_cen_T) / denom_l, (x_pm_T - x_cen_T) / denom_m],\n",
    "        [(y_px_T - y_cen_T) / denom_x, (y_py_T - y_cen_T) / denom_y, (y_pl_T - y_cen_T) / denom_l, (y_pm_T - y_cen_T) / denom_m],\n",
    "        [(l_px_T - l_cen_T) / denom_x, (l_py_T - l_cen_T) / denom_y, (l_pl_T - l_cen_T) / denom_l, (l_pm_T - l_cen_T) / denom_m],\n",
    "        [(m_px_T - m_cen_T) / denom_x, (m_py_T - m_cen_T) / denom_y, (m_pl_T - m_cen_T) / denom_l, (m_pm_T - m_cen_T) / denom_m]\n",
    "    ])\n",
    "    \n",
    "    return matrix"
   ]
  },
  {
   "cell_type": "markdown",
   "metadata": {},
   "source": [
    "Best to start with a single gaussian, and how to divide that up into a bunch of rays. "
   ]
  },
  {
   "cell_type": "code",
   "execution_count": 18,
   "metadata": {},
   "outputs": [
    {
     "name": "stdout",
     "output_type": "stream",
     "text": [
      "[ 0. 10.]\n",
      "(2, 2, 2)\n",
      "[0.9693214+0.11999218j 0.9693214+0.11999218j]\n"
     ]
    }
   ],
   "source": [
    "z_ray = 0.0\n",
    "n_rays = 2\n",
    "x_ray = np.linspace(0.0, 10, n_rays)\n",
    "y_ray = np.linspace(0.0, 0, n_rays)\n",
    "dx_ray = np.linspace(0.0, 0.0, n_rays)\n",
    "dy_ray = np.linspace(0.0, 0.0, n_rays)\n",
    "print(x_ray)\n",
    "z_prop = 10\n",
    "\n",
    "pupil_radius = 1\n",
    "pixels = 1000\n",
    "\n",
    "# x_gauss = np.linspace(-pupil_radius, pupil_radius, pixels)\n",
    "# y_gauss = np.linspace(-pupil_radius, pupil_radius, pixels)\n",
    "# z_gauss = np.linspace(0, z_prop , pixels)\n",
    "\n",
    "wavelength = 1.0\n",
    "wo = 5\n",
    "div = wavelength / (np.pi * wo)\n",
    "z_r = (np.pi * wo ** 2) / wavelength\n",
    "\n",
    "dPx = wo\n",
    "dPy = wo\n",
    "dHx = div / np.sqrt(1 + div ** 2 + div ** 2) #direction cosine rather than slope\n",
    "dHy = div / np.sqrt(1 + div ** 2 + div ** 2)\n",
    "\n",
    "z0 = np.zeros((5, n_rays))\n",
    "opd_in = np.zeros((5, n_rays))\n",
    "rayset0 = create_rayset(x_ray, dx_ray, y_ray, dy_ray, dPx, dHx, dPy, dHy, n_rays)\n",
    "rayset1 = np.copy(rayset0)\n",
    "rayset1[:, 0], rayset1[:, 1], z1, opd = propagate(rayset0[:, 0], rayset0[:, 1],  z0, rayset0[:, 2], rayset0[:, 3], 1 / (1 + rayset0[:, 2] ** 2 + rayset0[:, 3] ** 2), z_prop, opd_in)\n",
    "\n",
    "x_cen_S = rayset0[0, 0, :]\n",
    "x_px_S = rayset0[1, 0, :]\n",
    "x_py_S = rayset0[2, 0, :]\n",
    "x_pl_S = rayset0[3, 0, :]\n",
    "x_pm_S = rayset0[4, 0, :]\n",
    "\n",
    "y_cen_S = rayset0[0, 1, :]\n",
    "y_px_S = rayset0[1, 1, :]\n",
    "y_py_S = rayset0[2, 1, :]\n",
    "y_pl_S = rayset0[3, 1, :]\n",
    "y_pm_S = rayset0[4, 1, :]\n",
    "\n",
    "l_cen_S = rayset0[0, 2, :]\n",
    "l_px_S = rayset0[1, 2, :]\n",
    "l_py_S = rayset0[2, 2, :]\n",
    "l_pl_S = rayset0[3, 2, :]\n",
    "l_pm_S = rayset0[4, 2, :]\n",
    "\n",
    "m_cen_S = rayset0[0, 3, :]\n",
    "m_px_S = rayset0[1, 3, :]\n",
    "m_py_S = rayset0[2, 3, :]\n",
    "m_pl_S = rayset0[3, 3, :]\n",
    "m_pm_S = rayset0[4, 3, :]\n",
    "\n",
    "x_cen_T = rayset1[0, 0, :]\n",
    "x_px_T = rayset1[1, 0, :]\n",
    "x_py_T = rayset1[2, 0, :]\n",
    "x_pl_T = rayset1[3, 0, :]\n",
    "x_pm_T = rayset1[4, 0, :]\n",
    "\n",
    "y_cen_T = rayset1[0, 1, :]\n",
    "y_px_T = rayset1[1, 1, :]\n",
    "y_py_T = rayset1[2, 1, :]\n",
    "y_pl_T = rayset1[3, 1, :]\n",
    "y_pm_T = rayset1[4, 1, :]\n",
    "\n",
    "l_cen_T = rayset1[0, 2, :]\n",
    "l_px_T = rayset1[1, 2, :]\n",
    "l_py_T = rayset1[2, 2, :]\n",
    "l_pl_T = rayset1[3, 2, :]\n",
    "l_pm_T = rayset1[4, 2, :]\n",
    "\n",
    "m_cen_T = rayset1[0, 3, :]\n",
    "m_px_T = rayset1[1, 3, :]\n",
    "m_py_T = rayset1[2, 3, :]\n",
    "m_pl_T = rayset1[3, 3, :]\n",
    "m_pm_T = rayset1[4, 3, :]\n",
    "\n",
    "ABCD = differential_matrix(x_px_T, x_cen_T, x_px_S, x_cen_S,\n",
    "                           y_py_T, y_cen_T, y_py_S, y_cen_S,\n",
    "                           l_pl_T, l_cen_T, l_pl_S, l_cen_S,\n",
    "                           m_pm_T, m_cen_T, m_pm_S, m_cen_S,\n",
    "                           x_py_T, y_px_T, l_px_T, m_px_T,\n",
    "                           x_pl_T, y_pl_T, l_py_T, m_py_T,\n",
    "                           x_pm_T, y_pm_T, l_pm_T, m_pl_T)\n",
    "\n",
    "ABCD = ABCD.transpose(2, 0, 1)\n",
    "A = ABCD[:, 0:2, 0:2]\n",
    "B = ABCD[:, 0:2, 2:4]\n",
    "C = ABCD[:, 2:4, 0:2]\n",
    "D = ABCD[:, 2:4, 2:4]\n",
    "\n",
    "qinv = 1/(1j*z_r)\n",
    "Qinv = np.asarray([[qinv,0],[0,qinv]])\n",
    "Qinv = Qinv[np.newaxis]\n",
    "Num = (C + np.matmul(D , Qinv))\n",
    "Den =  np.linalg.inv(A + np.matmul(B, Qinv))\n",
    "Qpinv = np.matmul(Num,Den)\n",
    "Amplitude = 1/(np.sqrt(np.linalg.det(A + B @ Qpinv)))\n",
    "\n",
    "print(Qpinv.shape)\n",
    "print(Amplitude)\n"
   ]
  },
  {
   "cell_type": "code",
   "execution_count": 19,
   "metadata": {},
   "outputs": [
    {
     "name": "stdout",
     "output_type": "stream",
     "text": [
      "(5, 1, 1, 2) (5, 1, 2) (5, 1, 2)\n",
      "(5, 2) (5, 2)\n"
     ]
    }
   ],
   "source": [
    "z = z_prop * np.zeros_like(z0)\n",
    "z = z[:, np.newaxis, :]\n",
    "zData = z[:, np.newaxis, :]\n",
    "xData, yData = rayset1[:, np.newaxis, 0], rayset1[:, np.newaxis, 1]\n",
    "\n",
    "n = (1 + rayset1[:, 2] ** 2 + rayset1[:, 3] ** 2)\n",
    "nData = n[:, np.newaxis, :]\n",
    "lData, mData = rayset1[:, np.newaxis, 2], rayset1[:, np.newaxis, 3]\n",
    "print(zData.shape, xData.shape, yData.shape)\n",
    "xEnd, yEnd, zEnd = rayset1[:, 0], rayset1[:, 1], zData[:, 0, 0]\n",
    "lEnd, mEnd, nEnd = rayset1[:, 2], rayset1[:, 3], 1 / (1 + rayset1[:, 2] ** 2 + rayset1[:, 3] ** 2)\n",
    "print(xEnd.shape, zEnd.shape)"
   ]
  },
  {
   "cell_type": "code",
   "execution_count": 20,
   "metadata": {},
   "outputs": [
    {
     "name": "stdout",
     "output_type": "stream",
     "text": [
      "n shape =  (2, 3)\n",
      "r shape =  (3, 1000000)\n",
      "n @ r shape (5, 2, 1000000)\n"
     ]
    },
    {
     "data": {
      "text/plain": [
       "<matplotlib.image.AxesImage at 0x7fcf7842fe50>"
      ]
     },
     "execution_count": 20,
     "metadata": {},
     "output_type": "execute_result"
    },
    {
     "data": {
      "application/vnd.jupyter.widget-view+json": {
       "model_id": "fd9243a3b6234cbfb835b4ba1ef7b4b5",
       "version_major": 2,
       "version_minor": 0
      },
      "image/png": "[encoded data removed]",
      "text/html": [
       "\n",
       "            <div style=\"display: inline-block;\">\n",
       "                <div class=\"jupyter-widgets widget-label\" style=\"text-align: center;\">\n",
       "                    Figure\n",
       "                </div>\n",
       "                <img src='data:image/png;base64,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' width=640.0/>\n",
       "            </div>\n",
       "        "
      ],
      "text/plain": [
       "Canvas(toolbar=Toolbar(toolitems=[('Home', 'Reset original view', 'home', 'home'), ('Back', 'Back to previous …"
      ]
     },
     "metadata": {},
     "output_type": "display_data"
    }
   ],
   "source": [
    "from poke.poke_core import Rayfront\n",
    "from poke.beamlets import transversal_phase, center_transversal_plane, orthogonal_transformation_matrix, distance_to_transversal, propagate_rays_and_transform\n",
    "nrays = 10\n",
    "wvl = 1.0\n",
    "k = 2 * np.pi / wavelength\n",
    "\n",
    "r_ray = np.moveaxis(np.asarray([xEnd,yEnd,zEnd]),0,-1)\n",
    "k_ray = np.moveaxis(np.asarray([lEnd,mEnd,nEnd]),0,-1)\n",
    "\n",
    "dsize = 100\n",
    "npix = 1000\n",
    "x = np.linspace(-dsize/2,dsize/2,npix)\n",
    "x,y = np.meshgrid(x,x)\n",
    "dcoords = np.asarray([x.ravel(),y.ravel(),0*x.ravel()])\n",
    "dnorm = np.array([[0., 0., 1.]])\n",
    "\n",
    "O = orthogonal_transformation_matrix(k_ray[0],dnorm)\n",
    "Delta = distance_to_transversal(dcoords,r_ray,k_ray)\n",
    "r_ray,k_ray = propagate_rays_and_transform(r_ray,k_ray,Delta,O)\n",
    "r = center_transversal_plane(dcoords, r_ray, O)\n",
    "transversal = -1j*k*transversal_phase(Qpinv,r)\n",
    "\n",
    "field = np.zeros([dcoords.shape[1]],dtype=np.complex128)\n",
    "field += np.sum(Amplitude*np.exp(transversal),axis=1)\n",
    "field = field.reshape(npix,npix)\n",
    "\n",
    "plt.figure()\n",
    "plt.imshow(np.abs(field))"
   ]
  },
  {
   "cell_type": "code",
   "execution_count": 9,
   "metadata": {},
   "outputs": [
    {
     "ename": "NameError",
     "evalue": "name 'z_gauss' is not defined",
     "output_type": "error",
     "traceback": [
      "\u001b[0;31m---------------------------------------------------------------------------\u001b[0m",
      "\u001b[0;31mNameError\u001b[0m                                 Traceback (most recent call last)",
      "Cell \u001b[0;32mIn[9], line 2\u001b[0m\n\u001b[1;32m      1\u001b[0m plt\u001b[38;5;241m.\u001b[39mfigure()\n\u001b[0;32m----> 2\u001b[0m plt\u001b[38;5;241m.\u001b[39mplot(\u001b[43mz_gauss\u001b[49m, w_z(wo, z_gauss, z_r))\n\u001b[1;32m      3\u001b[0m plt\u001b[38;5;241m.\u001b[39mplot(z_gauss, w_z(\u001b[38;5;241m-\u001b[39mwo, z_gauss, z_r))\n\u001b[1;32m      4\u001b[0m plt\u001b[38;5;241m.\u001b[39mplot(z0, rayset0[:, \u001b[38;5;241m0\u001b[39m], \u001b[38;5;124m'\u001b[39m\u001b[38;5;124m.b\u001b[39m\u001b[38;5;124m'\u001b[39m)\n",
      "\u001b[0;31mNameError\u001b[0m: name 'z_gauss' is not defined"
     ]
    },
    {
     "data": {
      "application/vnd.jupyter.widget-view+json": {
       "model_id": "c8e4d962134146eea623c0b7c430a7b6",
       "version_major": 2,
       "version_minor": 0
      },
      "image/png": "[encoded data removed]",
      "text/html": [
       "\n",
       "            <div style=\"display: inline-block;\">\n",
       "                <div class=\"jupyter-widgets widget-label\" style=\"text-align: center;\">\n",
       "                    Figure\n",
       "                </div>\n",
       "                <img src='data:image/png;base64,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' width=640.0/>\n",
       "            </div>\n",
       "        "
      ],
      "text/plain": [
       "Canvas(toolbar=Toolbar(toolitems=[('Home', 'Reset original view', 'home', 'home'), ('Back', 'Back to previous …"
      ]
     },
     "metadata": {},
     "output_type": "display_data"
    }
   ],
   "source": [
    "plt.figure()\n",
    "plt.plot(z_gauss, w_z(wo, z_gauss, z_r))\n",
    "plt.plot(z_gauss, w_z(-wo, z_gauss, z_r))\n",
    "plt.plot(z0, rayset0[:, 0], '.b')\n",
    "plt.plot([z0, z1], [rayset0[:, 0], rayset1[:, 0]],  '-r')"
   ]
  },
  {
   "cell_type": "code",
   "execution_count": null,
   "metadata": {},
   "outputs": [],
   "source": [
    "wo = 0.4\n",
    "Wtotal = 20\n",
    "Wfield = 10\n",
    "\n",
    "OF = 2\n",
    "Ng = int(round(Wfield * OF / (2 * wo)))\n",
    "\n",
    "Cb = 2 * wo / OF\n",
    "print(Ng, Cb)\n",
    "\n",
    "pixels = 10001\n",
    "xtotal = np.linspace(-Wtotal/2, Wtotal/2, pixels)\n",
    "xfield = np.linspace(-Wfield/2, Wfield/2, pixels)\n",
    "\n",
    "field = np.ones(pixels) + 1j * np.zeros(pixels)  # This is your given field\n",
    "\n",
    "x0s = np.linspace(-Wfield/2 - (Cb*Ng - Wfield)/2, Wfield/2 + (Cb*Ng - Wfield)/2, Ng)\n",
    "print(x0s)"
   ]
  },
  {
   "cell_type": "code",
   "execution_count": null,
   "metadata": {},
   "outputs": [],
   "source": [
    "field = tophat(xtotal, Wfield/2, 20)\n",
    "\n",
    "plt.figure()\n",
    "plt.plot(xtotal, np.abs(field))"
   ]
  },
  {
   "cell_type": "code",
   "execution_count": null,
   "metadata": {},
   "outputs": [],
   "source": [
    "# Construct matrix G\n",
    "G = np.zeros((pixels, Ng), dtype=complex)\n",
    "gaussian_components = []\n",
    "z_r = zR(wo, 1.0)\n",
    "\n",
    "for j in range(Ng):\n",
    "    x0 = x0s[j]  # Centers of Gaussians\n",
    "    gaussian = gaussian_beam(1.0, xtotal, x0, wo, z_r)\n",
    "    G[:, j] = gaussian\n",
    "    gaussian_components.append(gaussian)\n",
    "\n",
    "# Solve for coefficients c using non-negative least squares (NNLS)\n",
    "c, _ = nnls(np.abs(G), np.abs(field))\n",
    "\n",
    "# Plot the original field and the reconstructed field\n",
    "reconstructed_field = np.dot(np.abs(G), c)\n",
    "\n"
   ]
  },
  {
   "cell_type": "code",
   "execution_count": null,
   "metadata": {},
   "outputs": [],
   "source": [
    "plt.figure(figsize=(8, 4))\n",
    "\n",
    "# Plot the individual Gaussian components\n",
    "plt.subplot(1, 1, 1)\n",
    "for j in range(Ng):\n",
    "    plt.plot(xtotal, np.abs(gaussian_components[j]), '-r', label=f'Gaussian {j+1}')\n",
    "\n",
    "plt.plot(xtotal, np.abs(field), label='Original Field (Amplitude)')\n",
    "plt.plot(xtotal, np.abs(reconstructed_field), '--k', label='Reconstructed Field (Amplitude)')\n",
    "plt.xlabel('Position (x)')\n",
    "plt.ylabel('Amplitude')\n",
    "plt.title('Comparison of Original and Reconstructed Fields')\n",
    "\n",
    "plt.tight_layout()\n",
    "plt.show()"
   ]
  },
  {
   "cell_type": "code",
   "execution_count": null,
   "metadata": {},
   "outputs": [],
   "source": [
    "# plt.figure()\n",
    "# plt.plot(rf.base_rays[0, :], rf.base_rays[1, :], 'bo')\n",
    "# print(rf.base_rays[3, :])"
   ]
  },
  {
   "cell_type": "code",
   "execution_count": null,
   "metadata": {},
   "outputs": [],
   "source": [
    "# data = [-5.3325, -3.8249999999999997, -2.3000000000000007, -0.7750000000000004, 0.7624999999999993, 2.2874999999999996, 3.8000000000000007, 5.3375]\n",
    "\n",
    "# np.average(np.diff(data))"
   ]
  },
  {
   "cell_type": "code",
   "execution_count": null,
   "metadata": {},
   "outputs": [],
   "source": [
    "angle = 0.5 #Radians\n",
    "slope_x = np.arctan(angle)\n",
    "slope_y = np.arctan(angle)\n",
    "l = slope_x / np.sqrt(1 + slope_x ** 2 + slope_y ** 2)\n",
    "m = slope_y / np.sqrt(1 + slope_x ** 2 + slope_y ** 2)\n",
    "n = 1 / np.sqrt(1 + slope_x ** 2 + slope_y ** 2)\n",
    "print(l, m, n, slope_x, slope_y)\n",
    "\n",
    "x0 = 0.0\n",
    "y0 = 0.0\n",
    "z0 = 0.0\n",
    "dx_slope = slope_x\n",
    "dy_slope = slope_y\n",
    "dz_slope = 1.0\n",
    "z_prop = 1.0\n",
    "\n",
    "x1_slope = x0 + slope_x * z_prop\n",
    "x1_direction_cosines = x0 + l / n * z_prop\n",
    "\n",
    "plt.figure()\n",
    "plt.plot([z0, z_prop], [x0, x1_slope], 'k')\n",
    "plt.plot([z0, z_prop], [x0, x1_direction_cosines], '--r')"
   ]
  }
 ],
 "metadata": {
  "kernelspec": {
   "display_name": "WPM",
   "language": "python",
   "name": "python3"
  },
  "language_info": {
   "codemirror_mode": {
    "name": "ipython",
    "version": 3
   },
   "file_extension": ".py",
   "mimetype": "text/x-python",
   "name": "python",
   "nbconvert_exporter": "python",
   "pygments_lexer": "ipython3",
   "version": "3.11.9"
  }
 },
 "nbformat": 4,
 "nbformat_minor": 2
}
